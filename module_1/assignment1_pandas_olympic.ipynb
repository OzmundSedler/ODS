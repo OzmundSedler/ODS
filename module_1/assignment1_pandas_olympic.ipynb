{
  "nbformat": 4,
  "nbformat_minor": 0,
  "metadata": {
    "kernelspec": {
      "display_name": "Python 3",
      "language": "python",
      "name": "python3"
    },
    "language_info": {
      "codemirror_mode": {
        "name": "ipython",
        "version": 3
      },
      "file_extension": ".py",
      "mimetype": "text/x-python",
      "name": "python",
      "nbconvert_exporter": "python",
      "pygments_lexer": "ipython3",
      "version": "3.7.3"
    },
    "colab": {
      "name": "assignment1_pandas_olympic.ipynb",
      "version": "0.3.2",
      "provenance": [],
      "collapsed_sections": []
    }
  },
  "cells": [
    {
      "cell_type": "markdown",
      "metadata": {
        "id": "7hvQoLxulAuJ",
        "colab_type": "text"
      },
      "source": [
        "<center>\n",
        "<img src=\"../../img/ods_stickers.jpg\" />\n",
        "    \n",
        "## [mlcourse.ai](https://mlcourse.ai) – Open Machine Learning Course \n",
        "Author: Arina Lopukhova (@erynn). Edited by [Yury Kashnitskiy](https://yorko.github.io) (@yorko) and Vadim Shestopalov (@vchulski). This material is subject to the terms and conditions of the [Creative Commons CC BY-NC-SA 4.0](https://creativecommons.org/licenses/by-nc-sa/4.0/) license. Free use is permitted for any non-commercial purpose."
      ]
    },
    {
      "cell_type": "markdown",
      "metadata": {
        "id": "4n7YyqhBlAuL",
        "colab_type": "text"
      },
      "source": [
        "# <center>Assignment #1. Fall 2019\n",
        "## <center>Exploratory data analysis of Olympic games with Pandas\n",
        "    \n",
        "<img src='../../img/olympic_logo.png' width=50%>"
      ]
    },
    {
      "cell_type": "markdown",
      "metadata": {
        "id": "0z60lllmlAuN",
        "colab_type": "text"
      },
      "source": [
        "Prior to working on the assignment, you'd better check out the corresponding course material:\n",
        " - [Exploratory data analysis with Pandas](https://nbviewer.jupyter.org/github/Yorko/mlcourse_open/blob/master/jupyter_english/topic01_pandas_data_analysis/topic1_pandas_data_analysis.ipynb?flush_cache=true), the same as an interactive web-based [Kaggle Kernel](https://www.kaggle.com/kashnitsky/topic-1-exploratory-data-analysis-with-pandas)\n",
        " - first lectures in mlcourse.ai [YouTube playlist ](https://www.youtube.com/watch?v=QKTuw4PNOsU&list=PLVlY_7IJCMJeRfZ68eVfEcu-UcN9BbwiX) \n",
        " - you can also practice with demo assignments, which are simpler and already shared with solutions: [A1 demo](https://www.kaggle.com/kashnitsky/a1-demo-pandas-and-uci-adult-dataset), [solution](https://www.kaggle.com/kashnitsky/a1-demo-pandas-and-uci-adult-dataset-solution)\n",
        "\n",
        "### Your task is to:\n",
        " 1. write code and perform computations in the cells below\n",
        " 2. choose answers in the [webform](https://docs.google.com/forms/d/1JxhQ9Bg4OpM3E5N47ZuRbILgDuMRbvEnUbDMZK8L-NU). Solutions will be shared only with those who've filled in this form \n",
        " 3. submit answers with some email and **remember it**! This will be your ID during the course. Specify your real full name in the form as well (no nicks allowed in the final top-100 [rating](https://mlcourse.ai/rating)). If in doubt, you can re-submit the form till the deadline for A1, no problem, but stick to only one email.\n",
        " \n",
        "### <center> Deadline for A1: 2019 September 15, 20:59 GMT (London time)\n",
        "    \n",
        "You'll get up to 10 credits for this assignment.\n",
        "\n",
        "### How to get help\n",
        "In [ODS Slack](https://opendatascience.slack.com) (if you still don't have access, fill in the [form](https://docs.google.com/forms/d/10HAN5huM996snUKjsNYyT_oOlm2uOsTKulKurb3oiNM/) mentioned on the mlcourse.ai main page), we have a channel **#mlcourse_ai_news** with announcements from the course team.\n",
        "You can discuss the course content freely in the **#mlcourse_ai** channel (we still have a huge Russian-speaking group, they have a separate channel **#mlcourse_ai_rus**).\n",
        "\n",
        "Here's how you reply in a thread (press this dialog icon to drill down into a thread):\n",
        "\n",
        "<img src=\"../../img/start_a_thread.png\" />\n",
        "\n",
        "Please stick to special threads *a1_q1-5_fall2019* and *a1_q6-10_fall2019* in **#mlcourse_ai_news** for your questions on A1. Help each other without sharing correct code and answers. Our TA **Vadim @vchulski** is there to help (only in the mentioned thread, do not write to him directly).\n",
        "\n",
        "Lastly, you can save useful messages by pinning them, further you can find pinned items on the top, just below the channel name:\n",
        "\n",
        "<img src=\"../../img/pinned_item.png\" />\n",
        "\n",
        "### Assignment \n",
        "__There are ten questions about 120 years of Olympic history in this task. Your task is to fill in the missing Python code and choose answers in [this web-form](https://docs.google.com/forms/d/1JxhQ9Bg4OpM3E5N47ZuRbILgDuMRbvEnUbDMZK8L-NU).__"
      ]
    },
    {
      "cell_type": "markdown",
      "metadata": {
        "id": "VxE2gprJlAuO",
        "colab_type": "text"
      },
      "source": [
        "Download the file `athlete_events.csv` from [here](https://drive.google.com/file/d/1f5v6Z2ayc7h698FG_98wP5x1Y2zZQeox/view?usp=sharing) (scraped by [rgriffin](https://www.randigriffin.com/) from www.sports-reference.com). The dataset has the following features:\n",
        "\n",
        "- __ID__ - Unique number for each athlete\n",
        "- __Name__ - Athlete's name\n",
        "- __Sex__ - M or F\n",
        "- __Age__ - Integer\n",
        "- __Height__ - In centimeters\n",
        "- __Weight__ - In kilograms\n",
        "- __Team__ - Team name\n",
        "- __NOC__ - National Olympic Committee 3-letter code\n",
        "- __Games__ - Year and season\n",
        "- __Year__ - Integer\n",
        "- __Season__ - Summer or Winter\n",
        "- __City__ - Host city\n",
        "- __Sport__ - Sport\n",
        "- __Event__ - Event\n",
        "- __Medal__ - Gold, Silver, Bronze, or NA"
      ]
    },
    {
      "cell_type": "code",
      "metadata": {
        "id": "9Rrip94flAuQ",
        "colab_type": "code",
        "colab": {}
      },
      "source": [
        "import pandas as pd"
      ],
      "execution_count": 0,
      "outputs": []
    },
    {
      "cell_type": "code",
      "metadata": {
        "id": "tJGTgTn4lAub",
        "colab_type": "code",
        "colab": {
          "base_uri": "https://localhost:8080/",
          "height": 204
        },
        "outputId": "e45a82c6-21e4-4bef-fd3c-b09a35688794"
      },
      "source": [
        "data = pd.read_csv('https://raw.githubusercontent.com/OzmundSedler/ODS/master/module_1/datasets/athlete_events.csv')\n",
        "data.head()"
      ],
      "execution_count": 4,
      "outputs": [
        {
          "output_type": "execute_result",
          "data": {
            "text/html": [
              "<div>\n",
              "<style scoped>\n",
              "    .dataframe tbody tr th:only-of-type {\n",
              "        vertical-align: middle;\n",
              "    }\n",
              "\n",
              "    .dataframe tbody tr th {\n",
              "        vertical-align: top;\n",
              "    }\n",
              "\n",
              "    .dataframe thead th {\n",
              "        text-align: right;\n",
              "    }\n",
              "</style>\n",
              "<table border=\"1\" class=\"dataframe\">\n",
              "  <thead>\n",
              "    <tr style=\"text-align: right;\">\n",
              "      <th></th>\n",
              "      <th>ID</th>\n",
              "      <th>Name</th>\n",
              "      <th>Sex</th>\n",
              "      <th>Age</th>\n",
              "      <th>Height</th>\n",
              "      <th>Weight</th>\n",
              "      <th>Team</th>\n",
              "      <th>NOC</th>\n",
              "      <th>Games</th>\n",
              "      <th>Year</th>\n",
              "      <th>Season</th>\n",
              "      <th>City</th>\n",
              "      <th>Sport</th>\n",
              "      <th>Event</th>\n",
              "      <th>Medal</th>\n",
              "    </tr>\n",
              "  </thead>\n",
              "  <tbody>\n",
              "    <tr>\n",
              "      <th>0</th>\n",
              "      <td>1</td>\n",
              "      <td>A Dijiang</td>\n",
              "      <td>M</td>\n",
              "      <td>24.0</td>\n",
              "      <td>180.0</td>\n",
              "      <td>80.0</td>\n",
              "      <td>China</td>\n",
              "      <td>CHN</td>\n",
              "      <td>1992 Summer</td>\n",
              "      <td>1992</td>\n",
              "      <td>Summer</td>\n",
              "      <td>Barcelona</td>\n",
              "      <td>Basketball</td>\n",
              "      <td>Basketball Men's Basketball</td>\n",
              "      <td>NaN</td>\n",
              "    </tr>\n",
              "    <tr>\n",
              "      <th>1</th>\n",
              "      <td>2</td>\n",
              "      <td>A Lamusi</td>\n",
              "      <td>M</td>\n",
              "      <td>23.0</td>\n",
              "      <td>170.0</td>\n",
              "      <td>60.0</td>\n",
              "      <td>China</td>\n",
              "      <td>CHN</td>\n",
              "      <td>2012 Summer</td>\n",
              "      <td>2012</td>\n",
              "      <td>Summer</td>\n",
              "      <td>London</td>\n",
              "      <td>Judo</td>\n",
              "      <td>Judo Men's Extra-Lightweight</td>\n",
              "      <td>NaN</td>\n",
              "    </tr>\n",
              "    <tr>\n",
              "      <th>2</th>\n",
              "      <td>3</td>\n",
              "      <td>Gunnar Nielsen Aaby</td>\n",
              "      <td>M</td>\n",
              "      <td>24.0</td>\n",
              "      <td>NaN</td>\n",
              "      <td>NaN</td>\n",
              "      <td>Denmark</td>\n",
              "      <td>DEN</td>\n",
              "      <td>1920 Summer</td>\n",
              "      <td>1920</td>\n",
              "      <td>Summer</td>\n",
              "      <td>Antwerpen</td>\n",
              "      <td>Football</td>\n",
              "      <td>Football Men's Football</td>\n",
              "      <td>NaN</td>\n",
              "    </tr>\n",
              "    <tr>\n",
              "      <th>3</th>\n",
              "      <td>4</td>\n",
              "      <td>Edgar Lindenau Aabye</td>\n",
              "      <td>M</td>\n",
              "      <td>34.0</td>\n",
              "      <td>NaN</td>\n",
              "      <td>NaN</td>\n",
              "      <td>Denmark/Sweden</td>\n",
              "      <td>DEN</td>\n",
              "      <td>1900 Summer</td>\n",
              "      <td>1900</td>\n",
              "      <td>Summer</td>\n",
              "      <td>Paris</td>\n",
              "      <td>Tug-Of-War</td>\n",
              "      <td>Tug-Of-War Men's Tug-Of-War</td>\n",
              "      <td>Gold</td>\n",
              "    </tr>\n",
              "    <tr>\n",
              "      <th>4</th>\n",
              "      <td>5</td>\n",
              "      <td>Christine Jacoba Aaftink</td>\n",
              "      <td>F</td>\n",
              "      <td>21.0</td>\n",
              "      <td>185.0</td>\n",
              "      <td>82.0</td>\n",
              "      <td>Netherlands</td>\n",
              "      <td>NED</td>\n",
              "      <td>1988 Winter</td>\n",
              "      <td>1988</td>\n",
              "      <td>Winter</td>\n",
              "      <td>Calgary</td>\n",
              "      <td>Speed Skating</td>\n",
              "      <td>Speed Skating Women's 500 metres</td>\n",
              "      <td>NaN</td>\n",
              "    </tr>\n",
              "  </tbody>\n",
              "</table>\n",
              "</div>"
            ],
            "text/plain": [
              "   ID                      Name  ...                             Event  Medal\n",
              "0   1                 A Dijiang  ...       Basketball Men's Basketball    NaN\n",
              "1   2                  A Lamusi  ...      Judo Men's Extra-Lightweight    NaN\n",
              "2   3       Gunnar Nielsen Aaby  ...           Football Men's Football    NaN\n",
              "3   4      Edgar Lindenau Aabye  ...       Tug-Of-War Men's Tug-Of-War   Gold\n",
              "4   5  Christine Jacoba Aaftink  ...  Speed Skating Women's 500 metres    NaN\n",
              "\n",
              "[5 rows x 15 columns]"
            ]
          },
          "metadata": {
            "tags": []
          },
          "execution_count": 4
        }
      ]
    },
    {
      "cell_type": "code",
      "metadata": {
        "id": "xbJa_nTZuCZX",
        "colab_type": "code",
        "colab": {
          "base_uri": "https://localhost:8080/",
          "height": 357
        },
        "outputId": "5d521e4e-3dda-43f3-ba8b-1eed4a4183bc"
      },
      "source": [
        "data.info()"
      ],
      "execution_count": 36,
      "outputs": [
        {
          "output_type": "stream",
          "text": [
            "<class 'pandas.core.frame.DataFrame'>\n",
            "RangeIndex: 271116 entries, 0 to 271115\n",
            "Data columns (total 15 columns):\n",
            "ID        271116 non-null int64\n",
            "Name      271116 non-null object\n",
            "Sex       271116 non-null object\n",
            "Age       261642 non-null float64\n",
            "Height    210945 non-null float64\n",
            "Weight    208241 non-null float64\n",
            "Team      271116 non-null object\n",
            "NOC       271116 non-null object\n",
            "Games     271116 non-null object\n",
            "Year      271116 non-null int64\n",
            "Season    271116 non-null object\n",
            "City      271116 non-null object\n",
            "Sport     271116 non-null object\n",
            "Event     271116 non-null object\n",
            "Medal     39783 non-null object\n",
            "dtypes: float64(3), int64(2), object(10)\n",
            "memory usage: 31.0+ MB\n"
          ],
          "name": "stdout"
        }
      ]
    },
    {
      "cell_type": "markdown",
      "metadata": {
        "id": "JOKr7WtvlAug",
        "colab_type": "text"
      },
      "source": [
        "__1. How old were the youngest male and female participants of the 1992 Olympics?__\n",
        "\n",
        "*For discussions, please stick to [ODS Slack](https://opendatascience.slack.com/), channel #mlcourse_ai_news, pinned thread #a1_q1-5_fall2019*\n",
        "\n",
        "- 16 and 15\n",
        "- 14 and 13 \n",
        "- 13 and 11\n",
        "- 11 and 12"
      ]
    },
    {
      "cell_type": "code",
      "metadata": {
        "id": "d4bWCfNfqTiX",
        "colab_type": "code",
        "colab": {}
      },
      "source": [
        "male_min = data.loc[(data['Year'] == 1992) & (data['Sex'] == 'M'), \"Age\"].min()\n",
        "female_min = data.loc[(data['Year'] == 1992) & (data['Sex'] == 'F'), \"Age\"].min()"
      ],
      "execution_count": 0,
      "outputs": []
    },
    {
      "cell_type": "code",
      "metadata": {
        "id": "eDMfH7tkqogR",
        "colab_type": "code",
        "colab": {
          "base_uri": "https://localhost:8080/",
          "height": 34
        },
        "outputId": "bbb9d304-2971-4502-e913-711a9beb5da0"
      },
      "source": [
        "print(f'Youngest male and female participants of the 1992 Olympics were {male_min} and {female_min} years old')"
      ],
      "execution_count": 15,
      "outputs": [
        {
          "output_type": "stream",
          "text": [
            "Youngest male and female participants of the 1992 Olympics were 11.0 and 12.0 years old\n"
          ],
          "name": "stdout"
        }
      ]
    },
    {
      "cell_type": "markdown",
      "metadata": {
        "id": "2TA5In7llAuj",
        "colab_type": "text"
      },
      "source": [
        "__2. What was the percentage of male basketball players among all the male participants of the 2012 Olympics? Round the answer to the first decimal.__\n",
        "\n",
        "*Hint:* here and further if needed drop duplicated sportsmen to count only unique ones. \n",
        "\n",
        "*For discussions, please stick to [ODS Slack](https://opendatascience.slack.com/), channel #mlcourse_ai_news, pinned thread #a1_q1-5_fall2019*\n",
        "\n",
        "- 0.2\n",
        "- 1.5 \n",
        "- 2.5\n",
        "- 7.7"
      ]
    },
    {
      "cell_type": "code",
      "metadata": {
        "id": "3edXqP1ssc5u",
        "colab_type": "code",
        "colab": {}
      },
      "source": [
        "all_male_participants = data.loc[(data['Year'] == 2012) & (data['Sex'] == 'M')]"
      ],
      "execution_count": 0,
      "outputs": []
    },
    {
      "cell_type": "code",
      "metadata": {
        "id": "1dVcLXk4uojf",
        "colab_type": "code",
        "colab": {}
      },
      "source": [
        "unique_male_participants_count = all_male_participants_sports['Name'].unique().shape[0]\n",
        "unique_male_basketball_players_count =  all_male_participants_sports.loc[all_male_participants_sports.Sport == 'Basketball']['Name'].unique().shape[0]"
      ],
      "execution_count": 0,
      "outputs": []
    },
    {
      "cell_type": "code",
      "metadata": {
        "id": "qZeQRHactUsx",
        "colab_type": "code",
        "colab": {
          "base_uri": "https://localhost:8080/",
          "height": 34
        },
        "outputId": "d0ca6bc9-be5d-496e-989f-e65586099db5"
      },
      "source": [
        "print(f'The percentage of male basketball players among all the male participants of the 2012 Olympics is: {(unique_male_basketball_players_count/unique_male_participants_count)*100:.1f}')"
      ],
      "execution_count": 46,
      "outputs": [
        {
          "output_type": "stream",
          "text": [
            "The percentage of male basketball players among all the male participants of the 2012 Olympics is: 2.5\n"
          ],
          "name": "stdout"
        }
      ]
    },
    {
      "cell_type": "markdown",
      "metadata": {
        "id": "feftSC0UlAum",
        "colab_type": "text"
      },
      "source": [
        "__3. What are the mean and standard deviation of height for female tennis players who participated in the 2000 Olympics? Round the answer to the first decimal.__\n",
        "\n",
        "*For discussions, please stick to [ODS Slack](https://opendatascience.slack.com/), channel #mlcourse_ai_news, pinned thread #a1_q1-5_fall2019*\n",
        "\n",
        "- 171.8 and 6.5\n",
        "- 179.4 and 10\n",
        "- 180.7 and 6.7\n",
        "- 182.4 and 9.1 "
      ]
    },
    {
      "cell_type": "code",
      "metadata": {
        "id": "QK5Ej7MFlAun",
        "colab_type": "code",
        "colab": {}
      },
      "source": [
        "female_height = data.loc[(data['Year'] == 2000) & (data['Sex'] == 'F') & (data['Sport'] == 'Tennis')]['Height']"
      ],
      "execution_count": 0,
      "outputs": []
    },
    {
      "cell_type": "code",
      "metadata": {
        "id": "rD0_HvvjwMaM",
        "colab_type": "code",
        "colab": {
          "base_uri": "https://localhost:8080/",
          "height": 34
        },
        "outputId": "f84d3f67-2ba2-4416-b32e-9194ea7cd467"
      },
      "source": [
        "print(f'The mean of female tennis players who participated in the 2000 Olympics is: { female_height.mean():.1f} and the standard deviation is: {female_height.std():.1f}')"
      ],
      "execution_count": 53,
      "outputs": [
        {
          "output_type": "stream",
          "text": [
            "The mean of female tennis players who participated in the 2000 Olympics is: 171.8 and the standard deviation is: 6.5\n"
          ],
          "name": "stdout"
        }
      ]
    },
    {
      "cell_type": "markdown",
      "metadata": {
        "id": "cRfDpQhelAuq",
        "colab_type": "text"
      },
      "source": [
        "__4. Find a sportsman who participated in the 2006 Olympics, with the highest weight among other participants of the same Olympics. What sport did he or she do?__\n",
        "\n",
        "*For discussions, please stick to [ODS Slack](https://opendatascience.slack.com/), channel #mlcourse_ai_news, pinned thread #a1_q1-5_fall2019*\n",
        "\n",
        "- Judo\n",
        "- Bobsleigh \n",
        "- Skeleton\n",
        "- Boxing"
      ]
    },
    {
      "cell_type": "code",
      "metadata": {
        "id": "hk7XlbohlAuq",
        "colab_type": "code",
        "colab": {
          "base_uri": "https://localhost:8080/",
          "height": 289
        },
        "outputId": "b489d2ea-32e5-44db-d8fe-25be072c76cf"
      },
      "source": [
        "olympics_2006 = data.loc[data['Year'] == 2006]\n",
        "olympics_2006.loc[olympics_2006['Weight'].idxmax()]"
      ],
      "execution_count": 65,
      "outputs": [
        {
          "output_type": "execute_result",
          "data": {
            "text/plain": [
              "ID                           4476\n",
              "Name            Patrick R. Antaki\n",
              "Sex                             M\n",
              "Age                            41\n",
              "Height                        185\n",
              "Weight                        127\n",
              "Team                      Lebanon\n",
              "NOC                           LIB\n",
              "Games                 2006 Winter\n",
              "Year                         2006\n",
              "Season                     Winter\n",
              "City                       Torino\n",
              "Sport                    Skeleton\n",
              "Event     Skeleton Men's Skeleton\n",
              "Medal                         NaN\n",
              "Name: 8102, dtype: object"
            ]
          },
          "metadata": {
            "tags": []
          },
          "execution_count": 65
        }
      ]
    },
    {
      "cell_type": "markdown",
      "metadata": {
        "id": "hayqyeFhlAut",
        "colab_type": "text"
      },
      "source": [
        "__5. How many times did John Aalberg participate in the Olympics held in different years?__\n",
        "\n",
        "*For discussions, please stick to [ODS Slack](https://opendatascience.slack.com/), channel #mlcourse_ai_news, pinned thread #a1_q1-5_fall2019*\n",
        "\n",
        "- 0\n",
        "- 1 \n",
        "- 2\n",
        "- 3 "
      ]
    },
    {
      "cell_type": "code",
      "metadata": {
        "id": "rojmogTwlAuv",
        "colab_type": "code",
        "colab": {
          "base_uri": "https://localhost:8080/",
          "height": 111
        },
        "outputId": "facb37f8-3a0a-4d40-c4c5-aa521ab97017"
      },
      "source": [
        "john = data.loc[(data['Name'] == 'John Aalberg')].drop_duplicates(['Year'])\n",
        "john.head()"
      ],
      "execution_count": 70,
      "outputs": [
        {
          "output_type": "execute_result",
          "data": {
            "text/html": [
              "<div>\n",
              "<style scoped>\n",
              "    .dataframe tbody tr th:only-of-type {\n",
              "        vertical-align: middle;\n",
              "    }\n",
              "\n",
              "    .dataframe tbody tr th {\n",
              "        vertical-align: top;\n",
              "    }\n",
              "\n",
              "    .dataframe thead th {\n",
              "        text-align: right;\n",
              "    }\n",
              "</style>\n",
              "<table border=\"1\" class=\"dataframe\">\n",
              "  <thead>\n",
              "    <tr style=\"text-align: right;\">\n",
              "      <th></th>\n",
              "      <th>ID</th>\n",
              "      <th>Name</th>\n",
              "      <th>Sex</th>\n",
              "      <th>Age</th>\n",
              "      <th>Height</th>\n",
              "      <th>Weight</th>\n",
              "      <th>Team</th>\n",
              "      <th>NOC</th>\n",
              "      <th>Games</th>\n",
              "      <th>Year</th>\n",
              "      <th>Season</th>\n",
              "      <th>City</th>\n",
              "      <th>Sport</th>\n",
              "      <th>Event</th>\n",
              "      <th>Medal</th>\n",
              "    </tr>\n",
              "  </thead>\n",
              "  <tbody>\n",
              "    <tr>\n",
              "      <th>18</th>\n",
              "      <td>7</td>\n",
              "      <td>John Aalberg</td>\n",
              "      <td>M</td>\n",
              "      <td>31.0</td>\n",
              "      <td>183.0</td>\n",
              "      <td>72.0</td>\n",
              "      <td>United States</td>\n",
              "      <td>USA</td>\n",
              "      <td>1992 Winter</td>\n",
              "      <td>1992</td>\n",
              "      <td>Winter</td>\n",
              "      <td>Albertville</td>\n",
              "      <td>Cross Country Skiing</td>\n",
              "      <td>Cross Country Skiing Men's 10 kilometres</td>\n",
              "      <td>NaN</td>\n",
              "    </tr>\n",
              "    <tr>\n",
              "      <th>22</th>\n",
              "      <td>7</td>\n",
              "      <td>John Aalberg</td>\n",
              "      <td>M</td>\n",
              "      <td>33.0</td>\n",
              "      <td>183.0</td>\n",
              "      <td>72.0</td>\n",
              "      <td>United States</td>\n",
              "      <td>USA</td>\n",
              "      <td>1994 Winter</td>\n",
              "      <td>1994</td>\n",
              "      <td>Winter</td>\n",
              "      <td>Lillehammer</td>\n",
              "      <td>Cross Country Skiing</td>\n",
              "      <td>Cross Country Skiing Men's 10 kilometres</td>\n",
              "      <td>NaN</td>\n",
              "    </tr>\n",
              "  </tbody>\n",
              "</table>\n",
              "</div>"
            ],
            "text/plain": [
              "    ID          Name  ...                                     Event  Medal\n",
              "18   7  John Aalberg  ...  Cross Country Skiing Men's 10 kilometres    NaN\n",
              "22   7  John Aalberg  ...  Cross Country Skiing Men's 10 kilometres    NaN\n",
              "\n",
              "[2 rows x 15 columns]"
            ]
          },
          "metadata": {
            "tags": []
          },
          "execution_count": 70
        }
      ]
    },
    {
      "cell_type": "markdown",
      "metadata": {
        "id": "nV0hgiLFlAu1",
        "colab_type": "text"
      },
      "source": [
        "__6. How many gold medals in tennis did sportspeople from the Switzerland team win at the 2008 Olympics? Count every medal from every sportsperson.__\n",
        "\n",
        "*For discussions, please stick to [ODS Slack](https://opendatascience.slack.com/), channel #mlcourse_ai_news, pinned thread #a1_q6-10_fall2019*\n",
        "\n",
        "- 0\n",
        "- 1 \n",
        "- 2\n",
        "- 3 "
      ]
    },
    {
      "cell_type": "code",
      "metadata": {
        "id": "gL_mbVz9lAu5",
        "colab_type": "code",
        "colab": {
          "base_uri": "https://localhost:8080/",
          "height": 111
        },
        "outputId": "21aa252c-9e54-4e29-aee3-56d788f5db18"
      },
      "source": [
        "switzerland_gold = data.loc[(data['Medal'] == 'Gold')  & (data['Sport'] == 'Tennis') & (data['Team'] == 'Switzerland') & (data['Year'] == 2008)]\n",
        "switzerland_gold.head()"
      ],
      "execution_count": 75,
      "outputs": [
        {
          "output_type": "execute_result",
          "data": {
            "text/html": [
              "<div>\n",
              "<style scoped>\n",
              "    .dataframe tbody tr th:only-of-type {\n",
              "        vertical-align: middle;\n",
              "    }\n",
              "\n",
              "    .dataframe tbody tr th {\n",
              "        vertical-align: top;\n",
              "    }\n",
              "\n",
              "    .dataframe thead th {\n",
              "        text-align: right;\n",
              "    }\n",
              "</style>\n",
              "<table border=\"1\" class=\"dataframe\">\n",
              "  <thead>\n",
              "    <tr style=\"text-align: right;\">\n",
              "      <th></th>\n",
              "      <th>ID</th>\n",
              "      <th>Name</th>\n",
              "      <th>Sex</th>\n",
              "      <th>Age</th>\n",
              "      <th>Height</th>\n",
              "      <th>Weight</th>\n",
              "      <th>Team</th>\n",
              "      <th>NOC</th>\n",
              "      <th>Games</th>\n",
              "      <th>Year</th>\n",
              "      <th>Season</th>\n",
              "      <th>City</th>\n",
              "      <th>Sport</th>\n",
              "      <th>Event</th>\n",
              "      <th>Medal</th>\n",
              "    </tr>\n",
              "  </thead>\n",
              "  <tbody>\n",
              "    <tr>\n",
              "      <th>67290</th>\n",
              "      <td>34396</td>\n",
              "      <td>Roger Federer</td>\n",
              "      <td>M</td>\n",
              "      <td>26.0</td>\n",
              "      <td>185.0</td>\n",
              "      <td>80.0</td>\n",
              "      <td>Switzerland</td>\n",
              "      <td>SUI</td>\n",
              "      <td>2008 Summer</td>\n",
              "      <td>2008</td>\n",
              "      <td>Summer</td>\n",
              "      <td>Beijing</td>\n",
              "      <td>Tennis</td>\n",
              "      <td>Tennis Men's Doubles</td>\n",
              "      <td>Gold</td>\n",
              "    </tr>\n",
              "    <tr>\n",
              "      <th>257672</th>\n",
              "      <td>129042</td>\n",
              "      <td>Stanislas Wawrinka</td>\n",
              "      <td>M</td>\n",
              "      <td>23.0</td>\n",
              "      <td>183.0</td>\n",
              "      <td>79.0</td>\n",
              "      <td>Switzerland</td>\n",
              "      <td>SUI</td>\n",
              "      <td>2008 Summer</td>\n",
              "      <td>2008</td>\n",
              "      <td>Summer</td>\n",
              "      <td>Beijing</td>\n",
              "      <td>Tennis</td>\n",
              "      <td>Tennis Men's Doubles</td>\n",
              "      <td>Gold</td>\n",
              "    </tr>\n",
              "  </tbody>\n",
              "</table>\n",
              "</div>"
            ],
            "text/plain": [
              "            ID                Name Sex  ...   Sport                 Event  Medal\n",
              "67290    34396       Roger Federer   M  ...  Tennis  Tennis Men's Doubles   Gold\n",
              "257672  129042  Stanislas Wawrinka   M  ...  Tennis  Tennis Men's Doubles   Gold\n",
              "\n",
              "[2 rows x 15 columns]"
            ]
          },
          "metadata": {
            "tags": []
          },
          "execution_count": 75
        }
      ]
    },
    {
      "cell_type": "markdown",
      "metadata": {
        "id": "1QD4LhzilAvC",
        "colab_type": "text"
      },
      "source": [
        "__7. Is it true that Spain won fewer medals than Italy at the 2016 Olympics? Do not consider NaN values in _Medal_ column.__ \n",
        "\n",
        "*For discussions, please stick to [ODS Slack](https://opendatascience.slack.com/), channel #mlcourse_ai_news, pinned thread #a1_q6-10_fall2019*\n",
        "\n",
        "- Yes\n",
        "- No"
      ]
    },
    {
      "cell_type": "code",
      "metadata": {
        "id": "LUB75ENDlAvD",
        "colab_type": "code",
        "colab": {}
      },
      "source": [
        "medals_olympics_2016 = data.loc[(data['Year'] == 2016)].dropna(subset=['Medal'])"
      ],
      "execution_count": 0,
      "outputs": []
    },
    {
      "cell_type": "code",
      "metadata": {
        "id": "9B6P8e0z1li5",
        "colab_type": "code",
        "colab": {
          "base_uri": "https://localhost:8080/",
          "height": 34
        },
        "outputId": "1e0224dd-70c7-43fb-c3cb-a84bc143b82d"
      },
      "source": [
        "print(medals_olympics_2016.loc[medals_olympics_2016['Team'] == 'Spain'].shape[0])"
      ],
      "execution_count": 88,
      "outputs": [
        {
          "output_type": "stream",
          "text": [
            "43\n"
          ],
          "name": "stdout"
        }
      ]
    },
    {
      "cell_type": "code",
      "metadata": {
        "id": "-GaKCjRv1fIe",
        "colab_type": "code",
        "colab": {
          "base_uri": "https://localhost:8080/",
          "height": 34
        },
        "outputId": "121ca348-5e41-4bcb-b991-10981cec1c9c"
      },
      "source": [
        "print(medals_olympics_2016.loc[medals_olympics_2016['Team'] == 'Italy'].shape[0])"
      ],
      "execution_count": 89,
      "outputs": [
        {
          "output_type": "stream",
          "text": [
            "70\n"
          ],
          "name": "stdout"
        }
      ]
    },
    {
      "cell_type": "markdown",
      "metadata": {
        "id": "BYhU8xTOlAvG",
        "colab_type": "text"
      },
      "source": [
        "__8. What age category did the fewest and the most participants of the 2008 Olympics belong to?__\n",
        "\n",
        "*For discussions, please stick to [ODS Slack](https://opendatascience.slack.com/), channel #mlcourse_ai_news, pinned thread #a1_q6-10_fall2019*\n",
        "\n",
        "- [45-55] and [25-35) correspondingly\n",
        "- [45-55] and [15-25) correspondingly\n",
        "- [35-45) and [25-35) correspondingly\n",
        "- [45-55] and [35-45) correspondingly"
      ]
    },
    {
      "cell_type": "code",
      "metadata": {
        "id": "IX3Ko-8GlAvH",
        "colab_type": "code",
        "colab": {
          "base_uri": "https://localhost:8080/",
          "height": 85
        },
        "outputId": "5290e0bf-d527-4107-9785-3b2d252a3284"
      },
      "source": [
        "age_categories = [(15,25),(25,35),(35,45),(45,55)]\n",
        "unique_participants_olympics_2008 = data.loc[(data['Year'] == 2008)].drop_duplicates(['Name'])\n",
        "\n",
        "for age_category in age_categories:\n",
        "  print (f'{age_category[0]} - {age_category[1]} : {unique_participants_olympics_2008.loc[(age_category[0] <= unique_participants_olympics_2008[\"Age\"]) & (unique_participants_olympics_2008[\"Age\"] < age_category[1])].shape[0]}')"
      ],
      "execution_count": 101,
      "outputs": [
        {
          "output_type": "stream",
          "text": [
            "15 - 25 : 4776\n",
            "25 - 35 : 5373\n",
            "35 - 45 : 630\n",
            "45 - 55 : 76\n"
          ],
          "name": "stdout"
        }
      ]
    },
    {
      "cell_type": "markdown",
      "metadata": {
        "id": "oVqiRHStlAvL",
        "colab_type": "text"
      },
      "source": [
        "__9. Is it true that there were Summer Olympics held in Atlanta? Is it true that there were Winter Olympics held in Squaw Valley?__\n",
        "\n",
        "*For discussions, please stick to [ODS Slack](https://opendatascience.slack.com/), channel #mlcourse_ai_news, pinned thread #a1_q6-10_fall2019*\n",
        "\n",
        "- Yes, Yes\n",
        "- Yes, No\n",
        "- No, Yes \n",
        "- No, No "
      ]
    },
    {
      "cell_type": "code",
      "metadata": {
        "id": "1fb367qBlAvN",
        "colab_type": "code",
        "colab": {
          "base_uri": "https://localhost:8080/",
          "height": 204
        },
        "outputId": "1b517af2-636c-468f-b926-f3710b13b275"
      },
      "source": [
        "data.loc[(data['City'] == 'Atlanta')].head()"
      ],
      "execution_count": 103,
      "outputs": [
        {
          "output_type": "execute_result",
          "data": {
            "text/html": [
              "<div>\n",
              "<style scoped>\n",
              "    .dataframe tbody tr th:only-of-type {\n",
              "        vertical-align: middle;\n",
              "    }\n",
              "\n",
              "    .dataframe tbody tr th {\n",
              "        vertical-align: top;\n",
              "    }\n",
              "\n",
              "    .dataframe thead th {\n",
              "        text-align: right;\n",
              "    }\n",
              "</style>\n",
              "<table border=\"1\" class=\"dataframe\">\n",
              "  <thead>\n",
              "    <tr style=\"text-align: right;\">\n",
              "      <th></th>\n",
              "      <th>ID</th>\n",
              "      <th>Name</th>\n",
              "      <th>Sex</th>\n",
              "      <th>Age</th>\n",
              "      <th>Height</th>\n",
              "      <th>Weight</th>\n",
              "      <th>Team</th>\n",
              "      <th>NOC</th>\n",
              "      <th>Games</th>\n",
              "      <th>Year</th>\n",
              "      <th>Season</th>\n",
              "      <th>City</th>\n",
              "      <th>Sport</th>\n",
              "      <th>Event</th>\n",
              "      <th>Medal</th>\n",
              "    </tr>\n",
              "  </thead>\n",
              "  <tbody>\n",
              "    <tr>\n",
              "      <th>32</th>\n",
              "      <td>13</td>\n",
              "      <td>Minna Maarit Aalto</td>\n",
              "      <td>F</td>\n",
              "      <td>30.0</td>\n",
              "      <td>159.0</td>\n",
              "      <td>55.5</td>\n",
              "      <td>Finland</td>\n",
              "      <td>FIN</td>\n",
              "      <td>1996 Summer</td>\n",
              "      <td>1996</td>\n",
              "      <td>Summer</td>\n",
              "      <td>Atlanta</td>\n",
              "      <td>Sailing</td>\n",
              "      <td>Sailing Women's Windsurfer</td>\n",
              "      <td>NaN</td>\n",
              "    </tr>\n",
              "    <tr>\n",
              "      <th>92</th>\n",
              "      <td>30</td>\n",
              "      <td>Pepijn Aardewijn</td>\n",
              "      <td>M</td>\n",
              "      <td>26.0</td>\n",
              "      <td>189.0</td>\n",
              "      <td>72.0</td>\n",
              "      <td>Netherlands</td>\n",
              "      <td>NED</td>\n",
              "      <td>1996 Summer</td>\n",
              "      <td>1996</td>\n",
              "      <td>Summer</td>\n",
              "      <td>Atlanta</td>\n",
              "      <td>Rowing</td>\n",
              "      <td>Rowing Men's Lightweight Double Sculls</td>\n",
              "      <td>Silver</td>\n",
              "    </tr>\n",
              "    <tr>\n",
              "      <th>97</th>\n",
              "      <td>33</td>\n",
              "      <td>Mika Lauri Aarnikka</td>\n",
              "      <td>M</td>\n",
              "      <td>28.0</td>\n",
              "      <td>187.0</td>\n",
              "      <td>76.0</td>\n",
              "      <td>Finland</td>\n",
              "      <td>FIN</td>\n",
              "      <td>1996 Summer</td>\n",
              "      <td>1996</td>\n",
              "      <td>Summer</td>\n",
              "      <td>Atlanta</td>\n",
              "      <td>Sailing</td>\n",
              "      <td>Sailing Men's Two Person Dinghy</td>\n",
              "      <td>NaN</td>\n",
              "    </tr>\n",
              "    <tr>\n",
              "      <th>100</th>\n",
              "      <td>36</td>\n",
              "      <td>Stefan Remco Aartsen</td>\n",
              "      <td>M</td>\n",
              "      <td>21.0</td>\n",
              "      <td>194.0</td>\n",
              "      <td>78.0</td>\n",
              "      <td>Netherlands</td>\n",
              "      <td>NED</td>\n",
              "      <td>1996 Summer</td>\n",
              "      <td>1996</td>\n",
              "      <td>Summer</td>\n",
              "      <td>Atlanta</td>\n",
              "      <td>Swimming</td>\n",
              "      <td>Swimming Men's 100 metres Butterfly</td>\n",
              "      <td>NaN</td>\n",
              "    </tr>\n",
              "    <tr>\n",
              "      <th>101</th>\n",
              "      <td>36</td>\n",
              "      <td>Stefan Remco Aartsen</td>\n",
              "      <td>M</td>\n",
              "      <td>21.0</td>\n",
              "      <td>194.0</td>\n",
              "      <td>78.0</td>\n",
              "      <td>Netherlands</td>\n",
              "      <td>NED</td>\n",
              "      <td>1996 Summer</td>\n",
              "      <td>1996</td>\n",
              "      <td>Summer</td>\n",
              "      <td>Atlanta</td>\n",
              "      <td>Swimming</td>\n",
              "      <td>Swimming Men's 200 metres Butterfly</td>\n",
              "      <td>NaN</td>\n",
              "    </tr>\n",
              "  </tbody>\n",
              "</table>\n",
              "</div>"
            ],
            "text/plain": [
              "     ID                  Name  ...                                   Event   Medal\n",
              "32   13    Minna Maarit Aalto  ...              Sailing Women's Windsurfer     NaN\n",
              "92   30      Pepijn Aardewijn  ...  Rowing Men's Lightweight Double Sculls  Silver\n",
              "97   33   Mika Lauri Aarnikka  ...         Sailing Men's Two Person Dinghy     NaN\n",
              "100  36  Stefan Remco Aartsen  ...     Swimming Men's 100 metres Butterfly     NaN\n",
              "101  36  Stefan Remco Aartsen  ...     Swimming Men's 200 metres Butterfly     NaN\n",
              "\n",
              "[5 rows x 15 columns]"
            ]
          },
          "metadata": {
            "tags": []
          },
          "execution_count": 103
        }
      ]
    },
    {
      "cell_type": "code",
      "metadata": {
        "id": "lboVg7hx42cl",
        "colab_type": "code",
        "colab": {
          "base_uri": "https://localhost:8080/",
          "height": 204
        },
        "outputId": "8ca5022d-24d3-4c19-f8e4-71a27389263b"
      },
      "source": [
        "data.loc[(data['City'] == 'Squaw Valley')].head()"
      ],
      "execution_count": 104,
      "outputs": [
        {
          "output_type": "execute_result",
          "data": {
            "text/html": [
              "<div>\n",
              "<style scoped>\n",
              "    .dataframe tbody tr th:only-of-type {\n",
              "        vertical-align: middle;\n",
              "    }\n",
              "\n",
              "    .dataframe tbody tr th {\n",
              "        vertical-align: top;\n",
              "    }\n",
              "\n",
              "    .dataframe thead th {\n",
              "        text-align: right;\n",
              "    }\n",
              "</style>\n",
              "<table border=\"1\" class=\"dataframe\">\n",
              "  <thead>\n",
              "    <tr style=\"text-align: right;\">\n",
              "      <th></th>\n",
              "      <th>ID</th>\n",
              "      <th>Name</th>\n",
              "      <th>Sex</th>\n",
              "      <th>Age</th>\n",
              "      <th>Height</th>\n",
              "      <th>Weight</th>\n",
              "      <th>Team</th>\n",
              "      <th>NOC</th>\n",
              "      <th>Games</th>\n",
              "      <th>Year</th>\n",
              "      <th>Season</th>\n",
              "      <th>City</th>\n",
              "      <th>Sport</th>\n",
              "      <th>Event</th>\n",
              "      <th>Medal</th>\n",
              "    </tr>\n",
              "  </thead>\n",
              "  <tbody>\n",
              "    <tr>\n",
              "      <th>83</th>\n",
              "      <td>24</td>\n",
              "      <td>Nils Egil Aaness</td>\n",
              "      <td>M</td>\n",
              "      <td>24.0</td>\n",
              "      <td>NaN</td>\n",
              "      <td>NaN</td>\n",
              "      <td>Norway</td>\n",
              "      <td>NOR</td>\n",
              "      <td>1960 Winter</td>\n",
              "      <td>1960</td>\n",
              "      <td>Winter</td>\n",
              "      <td>Squaw Valley</td>\n",
              "      <td>Speed Skating</td>\n",
              "      <td>Speed Skating Men's 500 metres</td>\n",
              "      <td>NaN</td>\n",
              "    </tr>\n",
              "    <tr>\n",
              "      <th>84</th>\n",
              "      <td>24</td>\n",
              "      <td>Nils Egil Aaness</td>\n",
              "      <td>M</td>\n",
              "      <td>24.0</td>\n",
              "      <td>NaN</td>\n",
              "      <td>NaN</td>\n",
              "      <td>Norway</td>\n",
              "      <td>NOR</td>\n",
              "      <td>1960 Winter</td>\n",
              "      <td>1960</td>\n",
              "      <td>Winter</td>\n",
              "      <td>Squaw Valley</td>\n",
              "      <td>Speed Skating</td>\n",
              "      <td>Speed Skating Men's 1,500 metres</td>\n",
              "      <td>NaN</td>\n",
              "    </tr>\n",
              "    <tr>\n",
              "      <th>113</th>\n",
              "      <td>40</td>\n",
              "      <td>Roald Edgar Aas</td>\n",
              "      <td>M</td>\n",
              "      <td>31.0</td>\n",
              "      <td>NaN</td>\n",
              "      <td>NaN</td>\n",
              "      <td>Norway</td>\n",
              "      <td>NOR</td>\n",
              "      <td>1960 Winter</td>\n",
              "      <td>1960</td>\n",
              "      <td>Winter</td>\n",
              "      <td>Squaw Valley</td>\n",
              "      <td>Speed Skating</td>\n",
              "      <td>Speed Skating Men's 1,500 metres</td>\n",
              "      <td>Gold</td>\n",
              "    </tr>\n",
              "    <tr>\n",
              "      <th>114</th>\n",
              "      <td>40</td>\n",
              "      <td>Roald Edgar Aas</td>\n",
              "      <td>M</td>\n",
              "      <td>31.0</td>\n",
              "      <td>NaN</td>\n",
              "      <td>NaN</td>\n",
              "      <td>Norway</td>\n",
              "      <td>NOR</td>\n",
              "      <td>1960 Winter</td>\n",
              "      <td>1960</td>\n",
              "      <td>Winter</td>\n",
              "      <td>Squaw Valley</td>\n",
              "      <td>Speed Skating</td>\n",
              "      <td>Speed Skating Men's 5,000 metres</td>\n",
              "      <td>NaN</td>\n",
              "    </tr>\n",
              "    <tr>\n",
              "      <th>115</th>\n",
              "      <td>40</td>\n",
              "      <td>Roald Edgar Aas</td>\n",
              "      <td>M</td>\n",
              "      <td>31.0</td>\n",
              "      <td>NaN</td>\n",
              "      <td>NaN</td>\n",
              "      <td>Norway</td>\n",
              "      <td>NOR</td>\n",
              "      <td>1960 Winter</td>\n",
              "      <td>1960</td>\n",
              "      <td>Winter</td>\n",
              "      <td>Squaw Valley</td>\n",
              "      <td>Speed Skating</td>\n",
              "      <td>Speed Skating Men's 10,000 metres</td>\n",
              "      <td>NaN</td>\n",
              "    </tr>\n",
              "  </tbody>\n",
              "</table>\n",
              "</div>"
            ],
            "text/plain": [
              "     ID              Name  ...                              Event  Medal\n",
              "83   24  Nils Egil Aaness  ...     Speed Skating Men's 500 metres    NaN\n",
              "84   24  Nils Egil Aaness  ...   Speed Skating Men's 1,500 metres    NaN\n",
              "113  40   Roald Edgar Aas  ...   Speed Skating Men's 1,500 metres   Gold\n",
              "114  40   Roald Edgar Aas  ...   Speed Skating Men's 5,000 metres    NaN\n",
              "115  40   Roald Edgar Aas  ...  Speed Skating Men's 10,000 metres    NaN\n",
              "\n",
              "[5 rows x 15 columns]"
            ]
          },
          "metadata": {
            "tags": []
          },
          "execution_count": 104
        }
      ]
    },
    {
      "cell_type": "markdown",
      "metadata": {
        "id": "2yK-K2hxlAvP",
        "colab_type": "text"
      },
      "source": [
        "__10. What is the absolute difference between the number of unique sports at the 1986 Olympics and 2002 Olympics?__\n",
        "\n",
        "*For discussions, please stick to [ODS Slack](https://opendatascience.slack.com/), channel #mlcourse_ai_news, pinned thread #a1_q6-10_fall2019*\n",
        "\n",
        "- 3 \n",
        "- 10\n",
        "- 15\n",
        "- 27 "
      ]
    },
    {
      "cell_type": "code",
      "metadata": {
        "id": "JYPztxMKlAvQ",
        "colab_type": "code",
        "colab": {
          "base_uri": "https://localhost:8080/",
          "height": 34
        },
        "outputId": "bcf39ab4-c7c0-4c22-ea80-7bbedb605ddb"
      },
      "source": [
        "data.loc[(data['Year'] == 2002)].drop_duplicates(['Sport']).shape[0] - data.loc[(data['Year'] == 1986)].drop_duplicates(['Sport']).shape[0]"
      ],
      "execution_count": 106,
      "outputs": [
        {
          "output_type": "execute_result",
          "data": {
            "text/plain": [
              "15"
            ]
          },
          "metadata": {
            "tags": []
          },
          "execution_count": 106
        }
      ]
    },
    {
      "cell_type": "markdown",
      "metadata": {
        "id": "lxMjZcQylAvT",
        "colab_type": "text"
      },
      "source": [
        "That's it! Now go and do 30 push-ups! :)"
      ]
    }
  ]
}